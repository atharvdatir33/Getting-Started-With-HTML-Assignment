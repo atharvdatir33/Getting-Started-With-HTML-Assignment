{
  "nbformat": 4,
  "nbformat_minor": 0,
  "metadata": {
    "colab": {
      "provenance": []
    },
    "kernelspec": {
      "name": "python3",
      "display_name": "Python 3"
    },
    "language_info": {
      "name": "python"
    }
  },
  "cells": [
    {
      "cell_type": "markdown",
      "source": [
        "#Assignment : Getting Started With HTML"
      ],
      "metadata": {
        "id": "Ve0XHVMItkxa"
      }
    },
    {
      "cell_type": "markdown",
      "source": [
        "Q.1 Write a simple program in HTML  that displays the heading \"HTML defines the content and structure of your website” on the web browser\n",
        "     -> Here's a simple HTML program that displays the heading \"HTML defines the content and structure of your website\" on a web browser:\n"
      ],
      "metadata": {
        "id": "zloyF4Wqtrdb"
      }
    },
    {
      "cell_type": "code",
      "source": [
        "<!DOCTYPE html>\n",
        "<html lang=\"en\">\n",
        "<head>\n",
        "    <meta charset=\"UTF-8\">\n",
        "    <meta name=\"viewport\" content=\"width=device-width, initial-scale=1.0\">\n",
        "    <title>HTML Basics</title>\n",
        "</head>\n",
        "<body>\n",
        "    <h1>HTML defines the content and structure of your website</h1>\n",
        "</body>\n",
        "</html>\n"
      ],
      "metadata": {
        "id": "tD_zsb_VxAxC"
      },
      "execution_count": null,
      "outputs": []
    },
    {
      "cell_type": "markdown",
      "source": [
        "Q.2 Explain the purpose of comments in HTML and provide an example of how to use comments in an HTML\n",
        "document"
      ],
      "metadata": {
        "id": "jym8cASPwrGr"
      }
    },
    {
      "cell_type": "markdown",
      "source": [
        "Purpose of Comments in HTML\n",
        "\n",
        "Comments in HTML are used to add notes or explanations within the code that are ignored by the web browser. They help developers understand the code, make modifications, and improve readability without affecting the webpage’s output.\n",
        "Uses of Comments in HTML:\n",
        "-  Explain Code - Helps in understanding complex sections of HTML.\n",
        "-  Temporarily Disable Code – You can \"comment out\" parts of the code for testing or debugging.\n",
        "-  Add Notes for Other Developers – Useful in collaborative projects.\n",
        "\n",
        "Syntax of Comments in HTML:"
      ],
      "metadata": {
        "id": "RmMLz20GvrCT"
      }
    },
    {
      "cell_type": "code",
      "source": [
        "<!-- This is a comment in HTML -->\n"
      ],
      "metadata": {
        "id": "5YtcLZpav8fP"
      },
      "execution_count": null,
      "outputs": []
    },
    {
      "cell_type": "markdown",
      "source": [
        "Example of Comments in an HTML Document:"
      ],
      "metadata": {
        "id": "unMcMxs8v-Nf"
      }
    },
    {
      "cell_type": "code",
      "source": [
        "<!DOCTYPE html>\n",
        "<html>\n",
        "<head>\n",
        "    <title>HTML Comments Example</title>\n",
        "</head>\n",
        "<body>\n",
        "    <!-- This is the main heading of the webpage -->\n",
        "    <h1>Welcome to My Website</h1>\n",
        "\n",
        "    <!-- Below is a paragraph about HTML -->\n",
        "    <p>HTML defines the content and structure of a webpage.</p>\n",
        "\n",
        "    <!-- The following image is temporarily removed -->\n",
        "    <!-- <img src=\"image.jpg\" alt=\"Sample Image\"> -->\n",
        "</body>\n",
        "</html>\n"
      ],
      "metadata": {
        "id": "DP9L4FAiwDQa"
      },
      "execution_count": null,
      "outputs": []
    },
    {
      "cell_type": "markdown",
      "source": [
        "Output:\n",
        "\n",
        "  Displays:\n",
        "    Welcome to My Website\n",
        "    HTML defines the content and structure of a webpage"
      ],
      "metadata": {
        "id": "rGzJY3VqwJ19"
      }
    },
    {
      "cell_type": "markdown",
      "source": [
        "Q.3  Write an HTML program that includes a heading, a paragraph of text, a horizontal line, and a line break.\n",
        "Arrange these elements to create a simple web page layout$"
      ],
      "metadata": {
        "id": "eihPCpV5wccB"
      }
    },
    {
      "cell_type": "code",
      "source": [
        "<!DOCTYPE html>\n",
        "<html lang=\"en\">\n",
        "<head>\n",
        "    <meta charset=\"UTF-8\">\n",
        "    <meta name=\"viewport\" content=\"width=device-width, initial-scale=1.0\">\n",
        "    <title>Simple Web Page</title>\n",
        "</head>\n",
        "<body>\n",
        "    <!-- Heading -->\n",
        "    <h1>Welcome to My Web Page</h1>\n",
        "\n",
        "    <!-- Paragraph of text -->\n",
        "    <p>HTML is the foundation of web development. It defines the structure and content of a webpage.</p>\n",
        "\n",
        "    <!-- Horizontal Line -->\n",
        "    <hr>\n",
        "\n",
        "    <!-- Another paragraph with a line break -->\n",
        "    <p>This is an example of a line break.<br> This sentence appears on the next line.</p>\n",
        "</body>\n",
        "</html>\n"
      ],
      "metadata": {
        "id": "hPfOdYE_w14d"
      },
      "execution_count": null,
      "outputs": []
    },
    {
      "cell_type": "markdown",
      "source": [
        "Q.4 Write a short note on Tag and element with an example ?"
      ],
      "metadata": {
        "id": "0iI_dzSXxJN5"
      }
    },
    {
      "cell_type": "markdown",
      "source": [
        "Tag and Element in HTML\n",
        "1. HTML Tag:\n",
        "\n",
        "A tag in HTML is a keyword enclosed within angle brackets (< >) that defines how content should be structured or displayed on a webpage.\n",
        "\n",
        "- Tags usually come in pairs: an opening tag and a closing tag.\n",
        "\n",
        "2. HTML Element:\n",
        "\n",
        "An element consists of an opening tag, content, and a closing tag (except for self-closing tags). It represents a complete structure in HTML.\n",
        "\n",
        "Example:"
      ],
      "metadata": {
        "id": "ZnBZScx-xzeU"
      }
    },
    {
      "cell_type": "code",
      "source": [
        "<p>This is a paragraph.</p>\n"
      ],
      "metadata": {
        "id": "IKPjotGpyEBy"
      },
      "execution_count": null,
      "outputs": []
    },
    {
      "cell_type": "code",
      "source": [
        "    <p> → Opening tag\n",
        "    This is a paragraph. → Content\n",
        "    </p> → Closing tag\n",
        "    Complete element: <p>This is a paragraph.</p>\n",
        "\n",
        "Self-Closing Element Example:\n",
        "\n",
        "Some elements do not have a closing tag, like <br> (line break) or <img> (image)"
      ],
      "metadata": {
        "id": "EDYzGhIryMLN"
      },
      "execution_count": null,
      "outputs": []
    },
    {
      "cell_type": "code",
      "source": [
        "<img src=\"image.jpg\" alt=\"Sample Image\">\n"
      ],
      "metadata": {
        "id": "FTfZmthNyPPr"
      },
      "execution_count": null,
      "outputs": []
    }
  ]
}